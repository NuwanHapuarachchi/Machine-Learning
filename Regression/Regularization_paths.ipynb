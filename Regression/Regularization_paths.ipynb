{
 "cells": [
  {
   "cell_type": "markdown",
   "id": "f8a314b1",
   "metadata": {},
   "source": [
    "# Regularization Path Analysis\n",
    "\n",
    "Visualizing how coefficients change across different regularization strengths."
   ]
  },
  {
   "cell_type": "code",
   "execution_count": null,
   "id": "a4f7169a",
   "metadata": {},
   "outputs": [],
   "source": [
    "import numpy as np\n",
    "import matplotlib.pyplot as plt\n",
    "from sklearn.linear_model import lasso_path, ridge_path, enet_path\n",
    "from sklearn.preprocessing import StandardScaler\n",
    "import seaborn as sns\n",
    "plt.style.use('seaborn-v0_8')"
   ]
  },
  {
   "cell_type": "code",
   "execution_count": null,
   "id": "9abeb877",
   "metadata": {},
   "outputs": [],
   "source": [
    "# Generate dataset for path analysis\n",
    "np.random.seed(404)\n",
    "n_samples, n_features = 80, 8\n",
    "X = np.random.randn(n_samples, n_features)\n",
    "true_coef = np.array([3, -2, 1.5, 0, 0, 1, -0.5, 0])\n",
    "y = X @ true_coef + 0.1 * np.random.randn(n_samples)\n",
    "\n",
    "# Standardize\n",
    "scaler = StandardScaler()\n",
    "X_scaled = scaler.fit_transform(X)\n",
    "\n",
    "# Compute regularization paths\n",
    "alphas_lasso, coefs_lasso, _ = lasso_path(X_scaled, y, alphas=None, n_alphas=100)\n",
    "alphas_ridge = np.logspace(-4, 1, 100)\n",
    "coefs_ridge = ridge_path(X_scaled, y, alphas=alphas_ridge)[1]\n",
    "\n",
    "# Plotting function\n",
    "def plot_regularization_path(alphas, coefs, title, log_scale=True):\n",
    "    plt.figure(figsize=(10, 6))\n",
    "    \n",
    "    for i in range(coefs.shape[0]):\n",
    "        plt.plot(alphas, coefs[i], label=f'Feature {i+1}', linewidth=2)\n",
    "    \n",
    "    if log_scale:\n",
    "        plt.xscale('log')\n",
    "    \n",
    "    plt.xlabel('Regularization Strength (α)')\n",
    "    plt.ylabel('Coefficient Value')\n",
    "    plt.title(title)\n",
    "    plt.legend(bbox_to_anchor=(1.05, 1), loc='upper left')\n",
    "    plt.grid(True, alpha=0.3)\n",
    "    plt.tight_layout()\n",
    "    plt.show()\n",
    "\n",
    "# Plot paths\n",
    "plot_regularization_path(alphas_lasso, coefs_lasso, 'Lasso Regularization Path')\n",
    "plot_regularization_path(alphas_ridge, coefs_ridge, 'Ridge Regularization Path')"
   ]
  }
 ],
 "metadata": {
  "language_info": {
   "name": "python"
  }
 },
 "nbformat": 4,
 "nbformat_minor": 5
}
