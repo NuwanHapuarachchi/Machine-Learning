{
 "cells": [
  {
   "cell_type": "markdown",
   "id": "42941662",
   "metadata": {},
   "source": [
    "# Robust Regression Techniques\n",
    "\n",
    "Exploring robust regression methods that are less sensitive to outliers."
   ]
  },
  {
   "cell_type": "code",
   "execution_count": null,
   "id": "7b4f1110",
   "metadata": {},
   "outputs": [],
   "source": [
    "import numpy as np\n",
    "import matplotlib.pyplot as plt\n",
    "from sklearn.linear_model import (\n",
    "    LinearRegression, HuberRegressor, \n",
    "    TheilSenRegressor, RANSACRegressor\n",
    ")\n",
    "from sklearn.preprocessing import StandardScaler\n",
    "from sklearn.model_selection import train_test_split\n",
    "from sklearn.metrics import mean_squared_error"
   ]
  },
  {
   "cell_type": "code",
   "execution_count": null,
   "id": "b425ddf5",
   "metadata": {},
   "outputs": [],
   "source": [
    "# Generate dataset with outliers\n",
    "np.random.seed(303)\n",
    "n_samples = 100\n",
    "X = np.random.randn(n_samples, 1)\n",
    "y = 3 + 2 * X.ravel() + 0.1 * np.random.randn(n_samples)\n",
    "\n",
    "# Add outliers\n",
    "outlier_indices = np.random.choice(n_samples, size=10, replace=False)\n",
    "y[outlier_indices] += np.random.choice([-1, 1], size=10) * np.random.uniform(2, 4, size=10)\n",
    "\n",
    "X_train, X_test, y_train, y_test = train_test_split(X, y, test_size=0.3, random_state=42)\n",
    "\n",
    "# Robust regressors\n",
    "robust_regressors = {\n",
    "    'OLS': LinearRegression(),\n",
    "    'Huber': HuberRegressor(epsilon=1.35),\n",
    "    'Theil-Sen': TheilSenRegressor(random_state=42),\n",
    "    'RANSAC': RANSACRegressor(random_state=42)\n",
    "}\n",
    "\n",
    "results = {}\n",
    "predictions = {}\n",
    "\n",
    "for name, regressor in robust_regressors.items():\n",
    "    regressor.fit(X_train, y_train)\n",
    "    y_pred = regressor.predict(X_test)\n",
    "    mse = mean_squared_error(y_test, y_pred)\n",
    "    \n",
    "    results[name] = mse\n",
    "    predictions[name] = y_pred\n",
    "    \n",
    "    print(f\"{name} MSE: {mse:.4f}\")\n",
    "\n",
    "print(f\"\\nBest robust method: {min(results, key=results.get)}\")"
   ]
  }
 ],
 "metadata": {
  "language_info": {
   "name": "python"
  }
 },
 "nbformat": 4,
 "nbformat_minor": 5
}
