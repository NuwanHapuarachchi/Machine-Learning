{
 "cells": [
  {
   "cell_type": "markdown",
   "id": "67bed6fe",
   "metadata": {},
   "source": [
    "# Regression Techniques Analysis\n",
    "\n",
    "This notebook explores various regression techniques including Lasso, Ridge, Elastic Net, and other advanced methods."
   ]
  },
  {
   "cell_type": "code",
   "execution_count": null,
   "id": "05efa6b2",
   "metadata": {},
   "outputs": [],
   "source": [
    "import numpy as np\n",
    "import pandas as pd\n",
    "import matplotlib.pyplot as plt\n",
    "from sklearn.linear_model import Lasso, Ridge, ElasticNet\n",
    "from sklearn.model_selection import train_test_split\n",
    "from sklearn.metrics import mean_squared_error, r2_score\n",
    "import warnings\n",
    "warnings.filterwarnings('ignore')"
   ]
  },
  {
   "cell_type": "markdown",
   "id": "a716043a",
   "metadata": {},
   "source": [
    "## Data Generation\n",
    "\n",
    "Generate synthetic dataset for regression analysis with multiple features and noise."
   ]
  },
  {
   "cell_type": "code",
   "execution_count": null,
   "id": "e4e45c16",
   "metadata": {},
   "outputs": [],
   "source": [
    "# Generate synthetic dataset\n",
    "np.random.seed(42)\n",
    "n_samples, n_features = 100, 20\n",
    "X = np.random.randn(n_samples, n_features)\n",
    "\n",
    "# True coefficients (sparse)\n",
    "true_coef = np.zeros(n_features)\n",
    "true_coef[:5] = [1.5, -2.0, 0.8, -1.2, 0.6]\n",
    "\n",
    "# Generate target with noise\n",
    "y = X @ true_coef + 0.1 * np.random.randn(n_samples)\n",
    "\n",
    "print(f\"Dataset shape: {X.shape}\")\n",
    "print(f\"Non-zero coefficients: {np.sum(true_coef != 0)}\")"
   ]
  },
  {
   "cell_type": "markdown",
   "id": "c839ac9c",
   "metadata": {},
   "source": [
    "## Lasso Regression Implementation\n",
    "\n",
    "Lasso (L1 regularization) performs feature selection by shrinking coefficients to zero."
   ]
  },
  {
   "cell_type": "code",
   "execution_count": null,
   "id": "57ab8869",
   "metadata": {},
   "outputs": [],
   "source": [
    "# Split the data\n",
    "X_train, X_test, y_train, y_test = train_test_split(X, y, test_size=0.3, random_state=42)\n",
    "\n",
    "# Implement Lasso regression\n",
    "lasso = Lasso(alpha=0.1, random_state=42)\n",
    "lasso.fit(X_train, y_train)\n",
    "\n",
    "# Predictions\n",
    "y_pred_lasso = lasso.predict(X_test)\n",
    "\n",
    "# Evaluation\n",
    "mse_lasso = mean_squared_error(y_test, y_pred_lasso)\n",
    "r2_lasso = r2_score(y_test, y_pred_lasso)\n",
    "\n",
    "print(f\"Lasso MSE: {mse_lasso:.4f}\")\n",
    "print(f\"Lasso R²: {r2_lasso:.4f}\")\n",
    "print(f\"Selected features: {np.sum(np.abs(lasso.coef_) > 1e-5)}\")"
   ]
  },
  {
   "cell_type": "code",
   "execution_count": null,
   "id": "e0501578",
   "metadata": {},
   "outputs": [],
   "source": [
    "# Visualize coefficients\n",
    "plt.figure(figsize=(12, 5))\n",
    "\n",
    "plt.subplot(1, 2, 1)\n",
    "plt.bar(range(len(true_coef)), true_coef, alpha=0.7, label='True coefficients')\n",
    "plt.xlabel('Feature index')\n",
    "plt.ylabel('Coefficient value')\n",
    "plt.title('True Coefficients')\n",
    "plt.legend()\n",
    "\n",
    "plt.subplot(1, 2, 2)\n",
    "plt.bar(range(len(lasso.coef_)), lasso.coef_, alpha=0.7, label='Lasso coefficients', color='orange')\n",
    "plt.xlabel('Feature index')\n",
    "plt.ylabel('Coefficient value')\n",
    "plt.title('Lasso Coefficients (α=0.1)')\n",
    "plt.legend()\n",
    "\n",
    "plt.tight_layout()\n",
    "plt.show()"
   ]
  }
 ],
 "metadata": {
  "language_info": {
   "name": "python"
  }
 },
 "nbformat": 4,
 "nbformat_minor": 5
}
