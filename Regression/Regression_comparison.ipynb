{
 "cells": [
  {
   "cell_type": "markdown",
   "id": "200cefa8",
   "metadata": {},
   "source": [
    "# Regression Methods Comparison\n",
    "\n",
    "Comprehensive comparison of various regression techniques on different datasets."
   ]
  },
  {
   "cell_type": "code",
   "execution_count": null,
   "id": "48eebb1f",
   "metadata": {},
   "outputs": [],
   "source": [
    "import numpy as np\n",
    "import pandas as pd\n",
    "import matplotlib.pyplot as plt\n",
    "from sklearn.linear_model import (\n",
    "    LinearRegression, Lasso, Ridge, ElasticNet, \n",
    "    BayesianRidge, HuberRegressor\n",
    ")\n",
    "from sklearn.ensemble import RandomForestRegressor\n",
    "from sklearn.svm import SVR\n",
    "from sklearn.model_selection import cross_val_score\n",
    "from sklearn.preprocessing import StandardScaler\n",
    "from sklearn.metrics import mean_squared_error, r2_score\n",
    "import warnings\n",
    "warnings.filterwarnings('ignore')"
   ]
  },
  {
   "cell_type": "code",
   "execution_count": null,
   "id": "cb6608fc",
   "metadata": {},
   "outputs": [],
   "source": [
    "def compare_regressors(X, y, test_size=0.3):\n",
    "    \"\"\"Compare multiple regression algorithms\"\"\"\n",
    "    \n",
    "    # Define regressors\n",
    "    regressors = {\n",
    "        'Linear': LinearRegression(),\n",
    "        'Lasso': Lasso(alpha=0.1),\n",
    "        'Ridge': Ridge(alpha=1.0),\n",
    "        'ElasticNet': ElasticNet(alpha=0.1, l1_ratio=0.5),\n",
    "        'Bayesian Ridge': BayesianRidge(),\n",
    "        'Huber': HuberRegressor(),\n",
    "        'Random Forest': RandomForestRegressor(n_estimators=100, random_state=42),\n",
    "        'SVR': SVR(kernel='rbf')\n",
    "    }\n",
    "    \n",
    "    # Standardize features for linear models\n",
    "    scaler = StandardScaler()\n",
    "    X_scaled = scaler.fit_transform(X)\n",
    "    \n",
    "    results = {}\n",
    "    \n",
    "    for name, regressor in regressors.items():\n",
    "        # Use scaled data for linear models, original for tree-based\n",
    "        X_data = X_scaled if name != 'Random Forest' else X\n",
    "        \n",
    "        # Cross-validation scores\n",
    "        cv_scores = cross_val_score(\n",
    "            regressor, X_data, y, cv=5, \n",
    "            scoring='neg_mean_squared_error'\n",
    "        )\n",
    "        \n",
    "        results[name] = {\n",
    "            'CV_MSE': -cv_scores.mean(),\n",
    "            'CV_MSE_std': cv_scores.std()\n",
    "        }\n",
    "    \n",
    "    return pd.DataFrame(results).T.sort_values('CV_MSE')\n",
    "\n",
    "# Test on synthetic dataset\n",
    "np.random.seed(202)\n",
    "n_samples, n_features = 200, 15\n",
    "X_test = np.random.randn(n_samples, n_features)\n",
    "coef_test = np.random.randn(n_features) * 0.5\n",
    "coef_test[10:] = 0  # Make some coefficients zero\n",
    "y_test = X_test @ coef_test + 0.1 * np.random.randn(n_samples)\n",
    "\n",
    "comparison_results = compare_regressors(X_test, y_test)\n",
    "print(\"Regression Comparison Results:\")\n",
    "print(comparison_results.round(4))"
   ]
  }
 ],
 "metadata": {
  "language_info": {
   "name": "python"
  }
 },
 "nbformat": 4,
 "nbformat_minor": 5
}
