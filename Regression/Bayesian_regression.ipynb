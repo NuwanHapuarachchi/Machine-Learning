{
 "cells": [
  {
   "cell_type": "markdown",
   "id": "682c5fd6",
   "metadata": {},
   "source": [
    "# Bayesian Ridge Regression\n",
    "\n",
    "Bayesian approach to Ridge regression with automatic relevance determination."
   ]
  },
  {
   "cell_type": "code",
   "execution_count": null,
   "id": "46b1316e",
   "metadata": {},
   "outputs": [],
   "source": [
    "import numpy as np\n",
    "import matplotlib.pyplot as plt\n",
    "from sklearn.linear_model import BayesianRidge, ARDRegression\n",
    "from sklearn.model_selection import train_test_split\n",
    "from sklearn.metrics import mean_squared_error, r2_score\n",
    "import seaborn as sns"
   ]
  },
  {
   "cell_type": "code",
   "execution_count": null,
   "id": "ea51c052",
   "metadata": {},
   "outputs": [],
   "source": [
    "# Generate dataset with noise\n",
    "np.random.seed(101)\n",
    "n_samples, n_features = 100, 12\n",
    "X = np.random.randn(n_samples, n_features)\n",
    "\n",
    "# Sparse true coefficients\n",
    "true_coef = np.zeros(n_features)\n",
    "true_coef[::3] = np.array([2.5, -1.8, 1.2, 0.9])\n",
    "\n",
    "# Add heteroscedastic noise\n",
    "noise_std = 0.1 + 0.05 * np.abs(X[:, 0])\n",
    "y = X @ true_coef + noise_std * np.random.randn(n_samples)\n",
    "\n",
    "X_train, X_test, y_train, y_test = train_test_split(X, y, test_size=0.3, random_state=42)\n",
    "\n",
    "# Bayesian Ridge\n",
    "br = BayesianRidge()\n",
    "br.fit(X_train, y_train)\n",
    "y_pred_br = br.predict(X_test)\n",
    "\n",
    "# ARD Regression\n",
    "ard = ARDRegression()\n",
    "ard.fit(X_train, y_train)\n",
    "y_pred_ard = ard.predict(X_test)\n",
    "\n",
    "print(f\"Bayesian Ridge MSE: {mean_squared_error(y_test, y_pred_br):.4f}\")\n",
    "print(f\"ARD MSE: {mean_squared_error(y_test, y_pred_ard):.4f}\")\n",
    "print(f\"ARD selected features: {np.sum(np.abs(ard.coef_) > 0.1)}\")"
   ]
  }
 ],
 "metadata": {
  "language_info": {
   "name": "python"
  }
 },
 "nbformat": 4,
 "nbformat_minor": 5
}
