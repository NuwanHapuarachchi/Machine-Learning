{
 "cells": [
  {
   "cell_type": "markdown",
   "id": "92d927ed",
   "metadata": {},
   "source": [
    "# Polynomial Regression Analysis\n",
    "\n",
    "Exploring polynomial features for non-linear relationship modeling."
   ]
  },
  {
   "cell_type": "code",
   "execution_count": null,
   "id": "eb36be25",
   "metadata": {},
   "outputs": [],
   "source": [
    "import numpy as np\n",
    "import matplotlib.pyplot as plt\n",
    "from sklearn.preprocessing import PolynomialFeatures\n",
    "from sklearn.linear_model import LinearRegression\n",
    "from sklearn.pipeline import Pipeline\n",
    "from sklearn.model_selection import validation_curve\n",
    "from sklearn.metrics import mean_squared_error"
   ]
  },
  {
   "cell_type": "code",
   "execution_count": null,
   "id": "5fb02edb",
   "metadata": {},
   "outputs": [],
   "source": [
    "# Generate non-linear dataset\n",
    "np.random.seed(789)\n",
    "X = np.linspace(0, 1, 50).reshape(-1, 1)\n",
    "y = 1.5 * X.ravel() + 2 * X.ravel()**2 - 3 * X.ravel()**3 + 0.1 * np.random.randn(50)\n",
    "\n",
    "# Polynomial degrees to test\n",
    "degrees = np.arange(1, 8)\n",
    "train_scores = []\n",
    "val_scores = []\n",
    "\n",
    "for degree in degrees:\n",
    "    poly_reg = Pipeline([\n",
    "        ('poly', PolynomialFeatures(degree=degree)),\n",
    "        ('linear', LinearRegression())\n",
    "    ])\n",
    "    \n",
    "    train_score, val_score = validation_curve(\n",
    "        poly_reg, X, y, param_name='poly__degree', \n",
    "        param_range=[degree], cv=5, scoring='neg_mean_squared_error'\n",
    "    )\n",
    "    \n",
    "    train_scores.append(-train_score.mean())\n",
    "    val_scores.append(-val_score.mean())\n",
    "\n",
    "print(f\"Optimal degree: {degrees[np.argmin(val_scores)]}\")"
   ]
  }
 ],
 "metadata": {
  "language_info": {
   "name": "python"
  }
 },
 "nbformat": 4,
 "nbformat_minor": 5
}
