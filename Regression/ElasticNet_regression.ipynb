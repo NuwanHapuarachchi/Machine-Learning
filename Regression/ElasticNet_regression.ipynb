{
 "cells": [
  {
   "cell_type": "markdown",
   "id": "683812e4",
   "metadata": {},
   "source": [
    "# Elastic Net Regression\n",
    "\n",
    "Elastic Net combines L1 and L2 regularization for better feature selection and stability."
   ]
  },
  {
   "cell_type": "code",
   "execution_count": null,
   "id": "cce70558",
   "metadata": {},
   "outputs": [],
   "source": [
    "import numpy as np\n",
    "import pandas as pd\n",
    "from sklearn.linear_model import ElasticNet\n",
    "from sklearn.model_selection import GridSearchCV\n",
    "from sklearn.preprocessing import StandardScaler\n",
    "from sklearn.metrics import mean_squared_error\n",
    "import matplotlib.pyplot as plt"
   ]
  },
  {
   "cell_type": "code",
   "execution_count": null,
   "id": "75264f10",
   "metadata": {},
   "outputs": [],
   "source": [
    "# Create correlated features dataset\n",
    "np.random.seed(456)\n",
    "n_samples = 200\n",
    "X = np.random.randn(n_samples, 10)\n",
    "\n",
    "# Add correlated features\n",
    "X[:, 5] = X[:, 0] + 0.3 * np.random.randn(n_samples)\n",
    "X[:, 6] = X[:, 1] + 0.2 * np.random.randn(n_samples)\n",
    "\n",
    "# Target with specific pattern\n",
    "coef = np.array([3, -2, 1.5, 0, 0, 2, -1, 0, 0, 0.5])\n",
    "y = X @ coef + 0.1 * np.random.randn(n_samples)\n",
    "\n",
    "print(f\"Dataset shape: {X.shape}\")\n",
    "print(f\"Correlation between X0 and X5: {np.corrcoef(X[:, 0], X[:, 5])[0, 1]:.3f}\")"
   ]
  }
 ],
 "metadata": {
  "language_info": {
   "name": "python"
  }
 },
 "nbformat": 4,
 "nbformat_minor": 5
}
